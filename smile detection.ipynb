{
 "cells": [
  {
   "cell_type": "code",
   "execution_count": 7,
   "metadata": {},
   "outputs": [],
   "source": [
    "import cv2\n"
   ]
  },
  {
   "cell_type": "code",
   "execution_count": 8,
   "metadata": {},
   "outputs": [],
   "source": [
    "video = cv2.VideoCapture(0)\n",
    "faceCascade = cv2.CascadeClassifier(r'E:\\deep learning\\face detection\\haarcascade_frontalface_default.xml')\n",
    "smileCascade = cv2.CascadeClassifier(r'E:\\deep learning\\face detection\\haarcascade_smile.xml')\n"
   ]
  },
  {
   "cell_type": "code",
   "execution_count": null,
   "metadata": {},
   "outputs": [],
   "source": [
    "while True:\n",
    "    # Read the video frame\n",
    "    ret, image = video.read()\n",
    "\n",
    "    # Convert frame to grayscale\n",
    "    gray = cv2.cvtColor(image, cv2.COLOR_BGR2GRAY)\n",
    "\n",
    "    # Detect faces in the grayscale frame\n",
    "    faces = faceCascade.detectMultiScale(gray, 1.1, 5)\n",
    "\n",
    "    for (x, y, w, h) in faces:\n",
    "        # Draw a rectangle around the face\n",
    "        image = cv2.rectangle(image, (x, y), (x+w, y+h), (0, 255, 0), 3)\n",
    "\n",
    "        # Detect smiles within the face region\n",
    "        smiles = smileCascade.detectMultiScale(gray[y:y+h, x:x+w], 1.8, 15)\n",
    "        for (sx, sy, sw, sh) in smiles:\n",
    "            # Draw a rectangle around the smile\n",
    "            cv2.rectangle(image, (x+sx, y+sy), (x+sx+sw, y+sy+sh), (0, 0, 255), 2)\n",
    "\n",
    "        print(\"Image Saved\")\n",
    "        path = 'E:.jpeg'\n",
    "        cv2.imwrite(path, image)\n",
    "\n",
    "    # Display the resulting frame\n",
    "    cv2.imshow('Live Video', image)\n",
    "\n",
    "    # Check for the Escape key press\n",
    "    if cv2.waitKey(1) == 27:  # 27 is the ASCII value of Escape key\n",
    "        break\n",
    "\n",
    "# Release the video capture and close all windows\n",
    "video.release()\n",
    "cv2.destroyAllWindows()"
   ]
  },
  {
   "cell_type": "code",
   "execution_count": null,
   "metadata": {},
   "outputs": [],
   "source": []
  }
 ],
 "metadata": {
  "kernelspec": {
   "display_name": "Python 3",
   "language": "python",
   "name": "python3"
  },
  "language_info": {
   "codemirror_mode": {
    "name": "ipython",
    "version": 3
   },
   "file_extension": ".py",
   "mimetype": "text/x-python",
   "name": "python",
   "nbconvert_exporter": "python",
   "pygments_lexer": "ipython3",
   "version": "3.10.0"
  },
  "orig_nbformat": 4
 },
 "nbformat": 4,
 "nbformat_minor": 2
}
