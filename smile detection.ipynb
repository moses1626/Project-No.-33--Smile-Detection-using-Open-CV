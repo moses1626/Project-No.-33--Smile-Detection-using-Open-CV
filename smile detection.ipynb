{
 "cells": [
  {
   "cell_type": "code",
   "execution_count": 7,
   "metadata": {},
   "outputs": [],
   "source": [
    "import cv2\n"
   ]
  },
  {
   "cell_type": "code",
   "execution_count": 8,
   "metadata": {},
   "outputs": [],
   "source": [
    "video = cv2.VideoCapture(0)\n",
    "faceCascade = cv2.CascadeClassifier(r'E:\\deep learning\\face detection\\haarcascade_frontalface_default.xml')\n",
    "smileCascade = cv2.CascadeClassifier(r'E:\\deep learning\\face detection\\haarcascade_smile.xml')\n"
   ]
  },
  {
   "cell_type": "code",
   "execution_count": 10,
   "metadata": {},
   "outputs": [
    {
     "ename": "error",
     "evalue": "OpenCV(4.7.0) D:\\a\\opencv-python\\opencv-python\\opencv\\modules\\imgproc\\src\\color.cpp:182: error: (-215:Assertion failed) !_src.empty() in function 'cv::cvtColor'\n",
     "output_type": "error",
     "traceback": [
      "\u001b[1;31m---------------------------------------------------------------------------\u001b[0m",
      "\u001b[1;31merror\u001b[0m                                     Traceback (most recent call last)",
      "Cell \u001b[1;32mIn[10], line 6\u001b[0m\n\u001b[0;32m      3\u001b[0m ret, image \u001b[39m=\u001b[39m video\u001b[39m.\u001b[39mread()\n\u001b[0;32m      5\u001b[0m \u001b[39m# Convert frame to grayscale\u001b[39;00m\n\u001b[1;32m----> 6\u001b[0m gray \u001b[39m=\u001b[39m cv2\u001b[39m.\u001b[39;49mcvtColor(image, cv2\u001b[39m.\u001b[39;49mCOLOR_BGR2GRAY)\n\u001b[0;32m      8\u001b[0m \u001b[39m# Detect faces in the grayscale frame\u001b[39;00m\n\u001b[0;32m      9\u001b[0m faces \u001b[39m=\u001b[39m faceCascade\u001b[39m.\u001b[39mdetectMultiScale(gray, \u001b[39m1.1\u001b[39m, \u001b[39m5\u001b[39m)\n",
      "\u001b[1;31merror\u001b[0m: OpenCV(4.7.0) D:\\a\\opencv-python\\opencv-python\\opencv\\modules\\imgproc\\src\\color.cpp:182: error: (-215:Assertion failed) !_src.empty() in function 'cv::cvtColor'\n"
     ]
    }
   ],
   "source": [
    "while True:\n",
    "    # Read the video frame\n",
    "    ret, image = video.read()\n",
    "\n",
    "    # Convert frame to grayscale\n",
    "    gray = cv2.cvtColor(image, cv2.COLOR_BGR2GRAY)\n",
    "\n",
    "    # Detect faces in the grayscale frame\n",
    "    faces = faceCascade.detectMultiScale(gray, 1.1, 5)\n",
    "\n",
    "    for (x, y, w, h) in faces:\n",
    "        # Draw a rectangle around the face\n",
    "        image = cv2.rectangle(image, (x, y), (x+w, y+h), (0, 255, 0), 3)\n",
    "\n",
    "        # Detect smiles within the face region\n",
    "        smiles = smileCascade.detectMultiScale(gray[y:y+h, x:x+w], 1.8, 15)\n",
    "        for (sx, sy, sw, sh) in smiles:\n",
    "            # Draw a rectangle around the smile\n",
    "            cv2.rectangle(image, (x+sx, y+sy), (x+sx+sw, y+sy+sh), (255, 0, 0), 2)\n",
    "\n",
    "        print(\"Image Saved\")\n",
    "        path = 'E:.jpeg'\n",
    "        cv2.imwrite(path, image)\n",
    "\n",
    "    # Display the resulting frame\n",
    "    cv2.imshow('Live Video', image)\n",
    "\n",
    "    # Check for the Escape key press\n",
    "    if cv2.waitKey(1) == 27:  # 27 is the ASCII value of Escape key\n",
    "        break\n",
    "\n",
    "# Release the video capture and close all windows\n",
    "video.release()\n",
    "cv2.destroyAllWindows()"
   ]
  },
  {
   "cell_type": "code",
   "execution_count": null,
   "metadata": {},
   "outputs": [],
   "source": []
  }
 ],
 "metadata": {
  "kernelspec": {
   "display_name": "Python 3",
   "language": "python",
   "name": "python3"
  },
  "language_info": {
   "codemirror_mode": {
    "name": "ipython",
    "version": 3
   },
   "file_extension": ".py",
   "mimetype": "text/x-python",
   "name": "python",
   "nbconvert_exporter": "python",
   "pygments_lexer": "ipython3",
   "version": "3.10.0"
  },
  "orig_nbformat": 4
 },
 "nbformat": 4,
 "nbformat_minor": 2
}
